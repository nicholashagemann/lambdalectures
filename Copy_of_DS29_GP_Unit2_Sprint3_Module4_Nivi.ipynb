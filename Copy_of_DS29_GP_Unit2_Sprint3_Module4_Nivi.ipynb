{
  "nbformat": 4,
  "nbformat_minor": 0,
  "metadata": {
    "kernelspec": {
      "display_name": "Python 3",
      "language": "python",
      "name": "python3"
    },
    "language_info": {
      "codemirror_mode": {
        "name": "ipython",
        "version": 3
      },
      "file_extension": ".py",
      "mimetype": "text/x-python",
      "name": "python",
      "nbconvert_exporter": "python",
      "pygments_lexer": "ipython3",
      "version": "3.8.5"
    },
    "colab": {
      "name": "Copy of DS29_GP_Unit2_Sprint3_Module4_Nivi",
      "provenance": [],
      "include_colab_link": true
    }
  },
  "cells": [
    {
      "cell_type": "markdown",
      "metadata": {
        "id": "view-in-github",
        "colab_type": "text"
      },
      "source": [
        "<a href=\"https://colab.research.google.com/github/nicholashagemann/lambdalectures/blob/main/Copy_of_DS29_GP_Unit2_Sprint3_Module4_Nivi.ipynb\" target=\"_parent\"><img src=\"https://colab.research.google.com/assets/colab-badge.svg\" alt=\"Open In Colab\"/></a>"
      ]
    },
    {
      "cell_type": "markdown",
      "metadata": {
        "id": "Uy12KbcTdQD5"
      },
      "source": [
        "# OVERVIEW\n",
        "\n",
        "1. Announcements\n",
        "2. Sample code for data imbalance\n",
        "3. Work on a regression model \n",
        "4. Learn about PDP and SHAP plots\n",
        "5. Talk about project module and SC"
      ]
    },
    {
      "cell_type": "code",
      "metadata": {
        "id": "vhEmmM-CoZia"
      },
      "source": [
        "%%capture\n",
        "import sys\n",
        "\n",
        "# If you're on Colab:\n",
        "if 'google.colab' in sys.modules:\n",
        "    DATA_PATH = 'https://raw.githubusercontent.com/LambdaSchool/DS-Unit-2-Applied-Modeling/master/data/'\n",
        "    !pip install category_encoders==2.*\n",
        "    !pip install pdpbox\n",
        "    !pip install shap\n",
        "\n",
        "# If you're working locally:\n",
        "else:\n",
        "    DATA_PATH = '../data/'"
      ],
      "execution_count": 1,
      "outputs": []
    },
    {
      "cell_type": "markdown",
      "metadata": {
        "id": "y2EGB5vhoZiS"
      },
      "source": [
        "\n",
        "Lambda School Data Science\n",
        "\n",
        "*Unit 2, Sprint 3, Module 4*\n",
        "\n",
        "---\n",
        "\n",
        "# Model Interpretation\n",
        "\n",
        "- Visualize and interpret **partial dependence plots**\n",
        "- Explain individual predictions with **shapley value plots**\n",
        "\n",
        "# I. Wrangle Data"
      ]
    },
    {
      "cell_type": "code",
      "metadata": {
        "id": "3V2WwSr6XgCF"
      },
      "source": [
        "import pandas as pd\n",
        "import numpy as np\n",
        "import matplotlib.pyplot as plt\n"
      ],
      "execution_count": 2,
      "outputs": []
    },
    {
      "cell_type": "code",
      "metadata": {
        "id": "JQPNZdtTXlye",
        "colab": {
          "base_uri": "https://localhost:8080/",
          "height": 255
        },
        "outputId": "d78a854b-4726-4c23-ef3d-aa46af469d50"
      },
      "source": [
        "def wrangle(filepath):\n",
        "  history = pd.read_csv(filepath, parse_dates= ['issue_d'], index_col= 'issue_d').sort_index()\n",
        "\n",
        "  history = history[history['term'] == ' 36 months']\n",
        "  history = history.rename(columns = \n",
        "                           {'annual_inc': 'Annual Income',\n",
        "                            'fico_range_high': 'Credit Score',\n",
        "                            'title' : 'Loan Purpose',\n",
        "                            'funded_amnt' : 'Loan Amount'})\n",
        "  \n",
        "  history['Interest Rate'] = history['int_rate'].str.strip('%').astype(float)\n",
        "  history['Monthly Debts'] = history['Annual Income']/12 * history['dti']/100\n",
        "\n",
        "  columns = ['Annual Income',\n",
        "             'Credit Score',\n",
        "             'Loan Amount',\n",
        "             'Loan Purpose',\n",
        "             'Monthly Debts',\n",
        "             'Interest Rate']\n",
        "  history = history[columns]\n",
        "\n",
        "  history.dropna(inplace = True)\n",
        "  history['purpose_debt'] = history['Loan Purpose']\n",
        "\n",
        "  history['purpose_debt'] = history['Loan Purpose'].str.lower().str.contains('debt').astype(int)\n",
        "  history['purpose_credit'] = history['Loan Purpose'].str.lower().str.contains('credit').astype(int)\n",
        "  history.drop(columns = 'Loan Purpose', inplace = True)\n",
        "\n",
        "  history = history[history['Annual Income'] < 1_000_000]\n",
        "\n",
        "  return history\n",
        "\n",
        "df = wrangle(DATA_PATH+'lending-club/lending-club-subset.csv')\n",
        "df.head()"
      ],
      "execution_count": 28,
      "outputs": [
        {
          "output_type": "execute_result",
          "data": {
            "text/html": [
              "<div>\n",
              "<style scoped>\n",
              "    .dataframe tbody tr th:only-of-type {\n",
              "        vertical-align: middle;\n",
              "    }\n",
              "\n",
              "    .dataframe tbody tr th {\n",
              "        vertical-align: top;\n",
              "    }\n",
              "\n",
              "    .dataframe thead th {\n",
              "        text-align: right;\n",
              "    }\n",
              "</style>\n",
              "<table border=\"1\" class=\"dataframe\">\n",
              "  <thead>\n",
              "    <tr style=\"text-align: right;\">\n",
              "      <th></th>\n",
              "      <th>Annual Income</th>\n",
              "      <th>Credit Score</th>\n",
              "      <th>Loan Amount</th>\n",
              "      <th>Monthly Debts</th>\n",
              "      <th>Interest Rate</th>\n",
              "      <th>purpose_debt</th>\n",
              "      <th>purpose_credit</th>\n",
              "    </tr>\n",
              "    <tr>\n",
              "      <th>issue_d</th>\n",
              "      <th></th>\n",
              "      <th></th>\n",
              "      <th></th>\n",
              "      <th></th>\n",
              "      <th></th>\n",
              "      <th></th>\n",
              "      <th></th>\n",
              "    </tr>\n",
              "  </thead>\n",
              "  <tbody>\n",
              "    <tr>\n",
              "      <th>2007-07-01</th>\n",
              "      <td>20000.0</td>\n",
              "      <td>684.0</td>\n",
              "      <td>3500.0</td>\n",
              "      <td>25.000000</td>\n",
              "      <td>10.28</td>\n",
              "      <td>0</td>\n",
              "      <td>0</td>\n",
              "    </tr>\n",
              "    <tr>\n",
              "      <th>2007-07-01</th>\n",
              "      <td>95000.0</td>\n",
              "      <td>774.0</td>\n",
              "      <td>5000.0</td>\n",
              "      <td>303.208333</td>\n",
              "      <td>7.43</td>\n",
              "      <td>0</td>\n",
              "      <td>0</td>\n",
              "    </tr>\n",
              "    <tr>\n",
              "      <th>2007-07-01</th>\n",
              "      <td>150000.0</td>\n",
              "      <td>779.0</td>\n",
              "      <td>5000.0</td>\n",
              "      <td>0.000000</td>\n",
              "      <td>7.43</td>\n",
              "      <td>0</td>\n",
              "      <td>0</td>\n",
              "    </tr>\n",
              "    <tr>\n",
              "      <th>2007-07-01</th>\n",
              "      <td>200000.0</td>\n",
              "      <td>679.0</td>\n",
              "      <td>3000.0</td>\n",
              "      <td>0.000000</td>\n",
              "      <td>10.28</td>\n",
              "      <td>0</td>\n",
              "      <td>0</td>\n",
              "    </tr>\n",
              "    <tr>\n",
              "      <th>2007-08-01</th>\n",
              "      <td>61800.0</td>\n",
              "      <td>749.0</td>\n",
              "      <td>4000.0</td>\n",
              "      <td>178.190000</td>\n",
              "      <td>7.75</td>\n",
              "      <td>0</td>\n",
              "      <td>0</td>\n",
              "    </tr>\n",
              "  </tbody>\n",
              "</table>\n",
              "</div>"
            ],
            "text/plain": [
              "            Annual Income  Credit Score  ...  purpose_debt  purpose_credit\n",
              "issue_d                                  ...                              \n",
              "2007-07-01        20000.0         684.0  ...             0               0\n",
              "2007-07-01        95000.0         774.0  ...             0               0\n",
              "2007-07-01       150000.0         779.0  ...             0               0\n",
              "2007-07-01       200000.0         679.0  ...             0               0\n",
              "2007-08-01        61800.0         749.0  ...             0               0\n",
              "\n",
              "[5 rows x 7 columns]"
            ]
          },
          "metadata": {
            "tags": []
          },
          "execution_count": 28
        }
      ]
    },
    {
      "cell_type": "code",
      "metadata": {
        "id": "iC7_K8JtCwB_"
      },
      "source": [
        ""
      ],
      "execution_count": 3,
      "outputs": []
    },
    {
      "cell_type": "code",
      "metadata": {
        "id": "CcO69VkcBwkT"
      },
      "source": [
        "target = 'Interest Rate'\n",
        "y = df[target]\n",
        "X = df.drop(columns = target)"
      ],
      "execution_count": 31,
      "outputs": []
    },
    {
      "cell_type": "markdown",
      "metadata": {
        "id": "ayCEM4ZAoZie"
      },
      "source": [
        "# II. Split Data"
      ]
    },
    {
      "cell_type": "code",
      "metadata": {
        "colab": {
          "base_uri": "https://localhost:8080/"
        },
        "id": "D7YNxQFPIOPp",
        "outputId": "55ebcbba-ff54-46aa-a0e3-87fd83c6326f"
      },
      "source": [
        "len(X)*0.6"
      ],
      "execution_count": 5,
      "outputs": [
        {
          "output_type": "execute_result",
          "data": {
            "text/plain": [
              "81302.40000000001"
            ]
          },
          "metadata": {
            "tags": []
          },
          "execution_count": 5
        }
      ]
    },
    {
      "cell_type": "code",
      "metadata": {
        "id": "V8dHdYOhJKry"
      },
      "source": [
        "cutoff1 = round(len(X)*0.6)\n",
        "cutoff2 = round(len(X)*0.8)\n",
        "X_train, y_train = X.iloc[:cutoff1], y.iloc[:cutoff1]\n",
        "X_val, y_val = X.iloc[cutoff1:cutoff2], y.iloc[cutoff1:cutoff2]\n",
        "X_test, y_test = X.iloc[cutoff2:], y.iloc[cutoff2:]"
      ],
      "execution_count": 32,
      "outputs": []
    },
    {
      "cell_type": "code",
      "metadata": {
        "colab": {
          "base_uri": "https://localhost:8080/"
        },
        "id": "D1dmjAMnIsy1",
        "outputId": "863a4670-3432-4db7-c07b-c5b58f855df8"
      },
      "source": [
        "print(f'Length of training data: {len(X_train)}, {len(y_train)}.')\n",
        "print(f'Length of validation data: {len(X_val)}, {len(y_val)}.')\n",
        "print(f'Length of testing data: {len(X_test)}, {len(y_test)}.')\n",
        "assert len(X_train) + len(X_val) + len(X_test)== len(X)"
      ],
      "execution_count": 15,
      "outputs": [
        {
          "output_type": "stream",
          "text": [
            "Length of training data: 60977, 60977.\n",
            "Length of validation data: 20325, 20325.\n",
            "Length of testing data: 20326, 20326.\n"
          ],
          "name": "stdout"
        }
      ]
    },
    {
      "cell_type": "markdown",
      "metadata": {
        "id": "gqrH6lRSoZif"
      },
      "source": [
        "# III. Establish Baseline"
      ]
    },
    {
      "cell_type": "code",
      "metadata": {
        "colab": {
          "base_uri": "https://localhost:8080/"
        },
        "id": "HqwZ-_FEKJNH",
        "outputId": "36893230-19af-4e2b-e470-7b18e248b540"
      },
      "source": [
        "from sklearn.metrics import mean_absolute_error\n",
        "y_pred = [y_train.mean()]*len(y_train)\n",
        "print('Baseline MAE: ', mean_absolute_error(y_train, y_pred))"
      ],
      "execution_count": 16,
      "outputs": [
        {
          "output_type": "stream",
          "text": [
            "Baseline MAE:  2.8715656644171257\n"
          ],
          "name": "stdout"
        }
      ]
    },
    {
      "cell_type": "markdown",
      "metadata": {
        "id": "2abFXVsboZig"
      },
      "source": [
        "# IV. Build Model"
      ]
    },
    {
      "cell_type": "code",
      "metadata": {
        "id": "_SI-7vToKdjA"
      },
      "source": [
        "from xgboost import XGBRegressor\n",
        "from sklearn.ensemble import RandomForestRegressor\n",
        "from sklearn.linear_model import LinearRegression"
      ],
      "execution_count": 9,
      "outputs": []
    },
    {
      "cell_type": "code",
      "metadata": {
        "colab": {
          "base_uri": "https://localhost:8080/"
        },
        "id": "jC0fITjOSuOs",
        "outputId": "f5e4c39a-97a7-4396-954d-a95cc74e57f7"
      },
      "source": [
        "model_boost = XGBRegressor(random_state = 42)\n",
        "model_boost.fit(X_train, y_train)\n",
        "\n",
        "model_forest = RandomForestRegressor(random_state = 42)\n",
        "model_forest.fit(X_train, y_train)\n",
        "\n",
        "model_linear = LinearRegression()\n",
        "model_linear.fit(X_train, y_train)"
      ],
      "execution_count": 17,
      "outputs": [
        {
          "output_type": "stream",
          "text": [
            "[01:10:01] WARNING: /workspace/src/objective/regression_obj.cu:152: reg:linear is now deprecated in favor of reg:squarederror.\n"
          ],
          "name": "stdout"
        },
        {
          "output_type": "execute_result",
          "data": {
            "text/plain": [
              "LinearRegression(copy_X=True, fit_intercept=True, n_jobs=None, normalize=False)"
            ]
          },
          "metadata": {
            "tags": []
          },
          "execution_count": 17
        }
      ]
    },
    {
      "cell_type": "markdown",
      "metadata": {
        "id": "-LTSYPUboZig"
      },
      "source": [
        "# V. Check Metrics"
      ]
    },
    {
      "cell_type": "code",
      "metadata": {
        "colab": {
          "base_uri": "https://localhost:8080/"
        },
        "id": "yW0g7oxCTNCG",
        "outputId": "efac7e15-427e-40a3-fad3-3e875d99eff0"
      },
      "source": [
        "for model in [model_boost, model_forest, model_linear]:\n",
        "  print(type(model))\n",
        "  print('Training MAE: ', mean_absolute_error(y_train, model.predict(X_train)))\n",
        "  print('Validation MAE', mean_absolute_error(y_val, model.predict(X_val)))\n",
        "  print('Validation R-Squared:', model.score(X_val, y_val))\n",
        "  print()"
      ],
      "execution_count": 18,
      "outputs": [
        {
          "output_type": "stream",
          "text": [
            "<class 'xgboost.sklearn.XGBRegressor'>\n",
            "Training MAE:  2.1664958629598456\n",
            "Validation MAE 2.527210703276649\n",
            "Validation R-Squared: 0.2712804643033042\n",
            "\n",
            "<class 'sklearn.ensemble._forest.RandomForestRegressor'>\n",
            "Training MAE:  0.8439938944270162\n",
            "Validation MAE 2.590890549510923\n",
            "Validation R-Squared: 0.225276860371046\n",
            "\n",
            "<class 'sklearn.linear_model._base.LinearRegression'>\n",
            "Training MAE:  2.3102099496420774\n",
            "Validation MAE 2.6567101152893944\n",
            "Validation R-Squared: 0.1980843677258185\n",
            "\n"
          ],
          "name": "stdout"
        }
      ]
    },
    {
      "cell_type": "code",
      "metadata": {
        "colab": {
          "base_uri": "https://localhost:8080/",
          "height": 299
        },
        "id": "TG6O3Spe7WlS",
        "outputId": "4c7b588d-4707-4568-d25e-ddddc0fdc315"
      },
      "source": [
        "df['Annual Income'].plot()"
      ],
      "execution_count": 29,
      "outputs": [
        {
          "output_type": "execute_result",
          "data": {
            "text/plain": [
              "<matplotlib.axes._subplots.AxesSubplot at 0x7f10ad985d10>"
            ]
          },
          "metadata": {
            "tags": []
          },
          "execution_count": 29
        },
        {
          "output_type": "display_data",
          "data": {
            "image/png": "[encoded data removed]",
            "text/plain": [
              "<Figure size 432x288 with 1 Axes>"
            ]
          },
          "metadata": {
            "tags": [],
            "needs_background": "light"
          }
        }
      ]
    },
    {
      "cell_type": "markdown",
      "metadata": {
        "id": "waBHeyreoZih"
      },
      "source": [
        "# VI. Communicate Results\n",
        "\n",
        "## Partial Dependence Plots\n",
        "\n",
        "One Feature"
      ]
    },
    {
      "cell_type": "code",
      "metadata": {
        "colab": {
          "base_uri": "https://localhost:8080/",
          "height": 633
        },
        "id": "wteoY0kE5qHj",
        "outputId": "38790d39-6ea3-4b62-aa7e-0cd4b3e121b2"
      },
      "source": [
        "from pdpbox.pdp import pdp_isolate, pdp_plot\n",
        "\n",
        "feature = 'Credit Score'\n",
        "\n",
        "isolate = pdp_isolate(\n",
        "    model = model_boost,\n",
        "    dataset = X_val,\n",
        "    model_features = X_val.columns,\n",
        "    feature = feature\n",
        ")\n",
        "pdp_plot(isolate, feature_name = feature)"
      ],
      "execution_count": 34,
      "outputs": [
        {
          "output_type": "execute_result",
          "data": {
            "text/plain": [
              "(<Figure size 1080x684 with 2 Axes>,\n",
              " {'pdp_ax': <matplotlib.axes._subplots.AxesSubplot at 0x7f10abfaf890>,\n",
              "  'title_ax': <matplotlib.axes._subplots.AxesSubplot at 0x7f10ad936f10>})"
            ]
          },
          "metadata": {
            "tags": []
          },
          "execution_count": 34
        },
        {
          "output_type": "display_data",
          "data": {
            "image/png": "[encoded data removed]",
            "text/plain": [
              "<Figure size 1080x684 with 2 Axes>"
            ]
          },
          "metadata": {
            "tags": [],
            "needs_background": "light"
          }
        }
      ]
    },
    {
      "cell_type": "markdown",
      "metadata": {
        "id": "YqYmdAEPoZii"
      },
      "source": [
        "Two features"
      ]
    },
    {
      "cell_type": "code",
      "metadata": {
        "colab": {
          "base_uri": "https://localhost:8080/",
          "height": 636
        },
        "id": "hOBHwRcK8w1S",
        "outputId": "9dd0cf1b-1431-423c-b356-45416ad52fa7"
      },
      "source": [
        "from pdpbox.pdp import pdp_interact, pdp_interact_plot\n",
        "features = ['Annual Income', 'Credit Score']\n",
        "\n",
        "interact = pdp_interact(\n",
        "    model = model_boost,\n",
        "    dataset = X_val,\n",
        "    model_features = X_val.columns,\n",
        "    features = features\n",
        ")\n",
        "\n",
        "pdp_interact_plot(interact, plot_type = 'contour', feature_names = features)"
      ],
      "execution_count": 40,
      "outputs": [
        {
          "output_type": "execute_result",
          "data": {
            "text/plain": [
              "(<Figure size 540x684 with 3 Axes>,\n",
              " {'pdp_inter_ax': <matplotlib.axes._subplots.AxesSubplot at 0x7f10ac68f4d0>,\n",
              "  'title_ax': <matplotlib.axes._subplots.AxesSubplot at 0x7f10abde1390>})"
            ]
          },
          "metadata": {
            "tags": []
          },
          "execution_count": 40
        },
        {
          "output_type": "display_data",
          "data": {
            "image/png": "[encoded data removed]",
            "text/plain": [
              "<Figure size 540x684 with 3 Axes>"
            ]
          },
          "metadata": {
            "tags": [],
            "needs_background": "light"
          }
        }
      ]
    },
    {
      "cell_type": "markdown",
      "metadata": {
        "id": "WZL2FvK5oZii"
      },
      "source": [
        "## Shapley Plots\n",
        "\n",
        "- Show you the influence of features in *individual* predictions."
      ]
    },
    {
      "cell_type": "code",
      "metadata": {
        "colab": {
          "base_uri": "https://localhost:8080/",
          "height": 112
        },
        "id": "Kwmfvofz_Iki",
        "outputId": "3b6603b4-bd7e-49d6-fbfb-090d0f213866"
      },
      "source": [
        "row = X_train.iloc[[52]]\n",
        "row"
      ],
      "execution_count": 48,
      "outputs": [
        {
          "output_type": "execute_result",
          "data": {
            "text/html": [
              "<div>\n",
              "<style scoped>\n",
              "    .dataframe tbody tr th:only-of-type {\n",
              "        vertical-align: middle;\n",
              "    }\n",
              "\n",
              "    .dataframe tbody tr th {\n",
              "        vertical-align: top;\n",
              "    }\n",
              "\n",
              "    .dataframe thead th {\n",
              "        text-align: right;\n",
              "    }\n",
              "</style>\n",
              "<table border=\"1\" class=\"dataframe\">\n",
              "  <thead>\n",
              "    <tr style=\"text-align: right;\">\n",
              "      <th></th>\n",
              "      <th>Annual Income</th>\n",
              "      <th>Credit Score</th>\n",
              "      <th>Loan Amount</th>\n",
              "      <th>Monthly Debts</th>\n",
              "      <th>purpose_debt</th>\n",
              "      <th>purpose_credit</th>\n",
              "    </tr>\n",
              "    <tr>\n",
              "      <th>issue_d</th>\n",
              "      <th></th>\n",
              "      <th></th>\n",
              "      <th></th>\n",
              "      <th></th>\n",
              "      <th></th>\n",
              "      <th></th>\n",
              "    </tr>\n",
              "  </thead>\n",
              "  <tbody>\n",
              "    <tr>\n",
              "      <th>2008-02-01</th>\n",
              "      <td>48000.0</td>\n",
              "      <td>704.0</td>\n",
              "      <td>7200.0</td>\n",
              "      <td>505.2</td>\n",
              "      <td>0</td>\n",
              "      <td>1</td>\n",
              "    </tr>\n",
              "  </tbody>\n",
              "</table>\n",
              "</div>"
            ],
            "text/plain": [
              "            Annual Income  Credit Score  ...  purpose_debt  purpose_credit\n",
              "issue_d                                  ...                              \n",
              "2008-02-01        48000.0         704.0  ...             0               1\n",
              "\n",
              "[1 rows x 6 columns]"
            ]
          },
          "metadata": {
            "tags": []
          },
          "execution_count": 48
        }
      ]
    },
    {
      "cell_type": "code",
      "metadata": {
        "colab": {
          "base_uri": "https://localhost:8080/"
        },
        "id": "Qv-630qc_MGF",
        "outputId": "1a1ef9dd-a04d-49d0-fe85-e577a37481fb"
      },
      "source": [
        "model_boost.predict(row)"
      ],
      "execution_count": 42,
      "outputs": [
        {
          "output_type": "execute_result",
          "data": {
            "text/plain": [
              "array([15.109936], dtype=float32)"
            ]
          },
          "metadata": {
            "tags": []
          },
          "execution_count": 42
        }
      ]
    },
    {
      "cell_type": "code",
      "metadata": {
        "colab": {
          "base_uri": "https://localhost:8080/",
          "height": 245
        },
        "id": "79LuzRK7_QVA",
        "outputId": "8e1badbd-d1ec-4687-e2a4-250357b3bd32"
      },
      "source": [
        "import shap\n",
        "explainer = shap.TreeExplainer(model_boost)\n",
        "shap_values = explainer.shap_values(row)\n",
        "\n",
        "shap.initjs()\n",
        "\n",
        "shap.force_plot(\n",
        "    base_value = explainer.expected_value,\n",
        "    shap_values = shap_values,\n",
        "    features = row)"
      ],
      "execution_count": 50,
      "outputs": [
        {
          "output_type": "error",
          "ename": "TypeError",
          "evalue": "ignored",
          "traceback": [
            "\u001b[0;31m---------------------------------------------------------------------------\u001b[0m",
            "\u001b[0;31mTypeError\u001b[0m                                 Traceback (most recent call last)",
            "\u001b[0;32m<ipython-input-50-ae31796405e0>\u001b[0m in \u001b[0;36m<module>\u001b[0;34m()\u001b[0m\n\u001b[1;32m      1\u001b[0m \u001b[0;32mimport\u001b[0m \u001b[0mshap\u001b[0m\u001b[0;34m\u001b[0m\u001b[0;34m\u001b[0m\u001b[0m\n\u001b[0;32m----> 2\u001b[0;31m \u001b[0mexplainer\u001b[0m \u001b[0;34m=\u001b[0m \u001b[0mshap\u001b[0m\u001b[0;34m.\u001b[0m\u001b[0mLinearExplainer\u001b[0m\u001b[0;34m(\u001b[0m\u001b[0mmodel_linear\u001b[0m\u001b[0;34m)\u001b[0m\u001b[0;34m\u001b[0m\u001b[0;34m\u001b[0m\u001b[0m\n\u001b[0m\u001b[1;32m      3\u001b[0m \u001b[0mshap_values\u001b[0m \u001b[0;34m=\u001b[0m \u001b[0mexplainer\u001b[0m\u001b[0;34m.\u001b[0m\u001b[0mshap_values\u001b[0m\u001b[0;34m(\u001b[0m\u001b[0mrow\u001b[0m\u001b[0;34m)\u001b[0m\u001b[0;34m\u001b[0m\u001b[0;34m\u001b[0m\u001b[0m\n\u001b[1;32m      4\u001b[0m \u001b[0;34m\u001b[0m\u001b[0m\n\u001b[1;32m      5\u001b[0m \u001b[0mshap\u001b[0m\u001b[0;34m.\u001b[0m\u001b[0minitjs\u001b[0m\u001b[0;34m(\u001b[0m\u001b[0;34m)\u001b[0m\u001b[0;34m\u001b[0m\u001b[0;34m\u001b[0m\u001b[0m\n",
            "\u001b[0;31mTypeError\u001b[0m: __init__() missing 1 required positional argument: 'masker'"
          ]
        }
      ]
    },
    {
      "cell_type": "code",
      "metadata": {
        "id": "mgNKOczaCH_y"
      },
      "source": [
        "import shap\n",
        "explainer = shap.LinearExplainer(model_linear)\n",
        "shap_values = explainer.shap_values(row)\n",
        "\n",
        "shap.initjs()\n",
        "\n",
        "shap.force_plot(\n",
        "    base_value = explainer.expected_value,\n",
        "    shap_values = shap_values,\n",
        "    features = row)"
      ],
      "execution_count": null,
      "outputs": []
    },
    {
      "cell_type": "code",
      "metadata": {
        "colab": {
          "base_uri": "https://localhost:8080/"
        },
        "id": "FSXHGb0e_kXZ",
        "outputId": "6cf33e57-8945-4810-c457-b225cc9869d7"
      },
      "source": [
        "dir(explainer)"
      ],
      "execution_count": 46,
      "outputs": [
        {
          "output_type": "execute_result",
          "data": {
            "text/plain": [
              "['_Tree__dynamic_expected_value',\n",
              " '__call__',\n",
              " '__class__',\n",
              " '__delattr__',\n",
              " '__dict__',\n",
              " '__dir__',\n",
              " '__doc__',\n",
              " '__eq__',\n",
              " '__format__',\n",
              " '__ge__',\n",
              " '__getattribute__',\n",
              " '__gt__',\n",
              " '__hash__',\n",
              " '__init__',\n",
              " '__init_subclass__',\n",
              " '__le__',\n",
              " '__lt__',\n",
              " '__module__',\n",
              " '__ne__',\n",
              " '__new__',\n",
              " '__reduce__',\n",
              " '__reduce_ex__',\n",
              " '__repr__',\n",
              " '__setattr__',\n",
              " '__sizeof__',\n",
              " '__str__',\n",
              " '__subclasshook__',\n",
              " '__weakref__',\n",
              " '_compute_main_effects',\n",
              " '_get_shap_interactions_output',\n",
              " '_get_shap_output',\n",
              " '_instantiated_load',\n",
              " '_validate_inputs',\n",
              " 'assert_additivity',\n",
              " 'data',\n",
              " 'data_missing',\n",
              " 'expected_value',\n",
              " 'explain_row',\n",
              " 'feature_names',\n",
              " 'feature_perturbation',\n",
              " 'link',\n",
              " 'load',\n",
              " 'masker',\n",
              " 'model',\n",
              " 'model_output',\n",
              " 'output_names',\n",
              " 'save',\n",
              " 'shap_interaction_values',\n",
              " 'shap_values',\n",
              " 'supports_model_with_masker']"
            ]
          },
          "metadata": {
            "tags": []
          },
          "execution_count": 46
        }
      ]
    }
  ]
}