{
  "nbformat": 4,
  "nbformat_minor": 0,
  "metadata": {
    "accelerator": "GPU",
    "colab": {
      "name": "DS29_GP_Unit2_Sprint2_Module3_Nivi",
      "provenance": [],
      "include_colab_link": true
    },
    "kernelspec": {
      "display_name": "Python 3",
      "language": "python",
      "name": "python3"
    },
    "language_info": {
      "codemirror_mode": {
        "name": "ipython",
        "version": 3
      },
      "file_extension": ".py",
      "mimetype": "text/x-python",
      "name": "python",
      "nbconvert_exporter": "python",
      "pygments_lexer": "ipython3",
      "version": "3.8.5"
    }
  },
  "cells": [
    {
      "cell_type": "markdown",
      "metadata": {
        "id": "view-in-github",
        "colab_type": "text"
      },
      "source": [
        "<a href=\"https://colab.research.google.com/github/nicholashagemann/lambdalectures/blob/main/DS29_GP_Unit2_Sprint2_Module3_Nivi.ipynb\" target=\"_parent\"><img src=\"https://colab.research.google.com/assets/colab-badge.svg\" alt=\"Open In Colab\"/></a>"
      ]
    },
    {
      "cell_type": "markdown",
      "metadata": {
        "id": "9aPXRM6tfiit"
      },
      "source": [
        "**OVERVIEW** \n",
        "1. Announcements\n",
        "2. Redo basics of Tree vs RF\n",
        "3. Cross validation\n",
        "4. Grid Search\n",
        "5. Randomized search\n",
        "6. Working locally.\n",
        "7. Date stamp for submissions\n",
        "8. Visualization"
      ]
    },
    {
      "cell_type": "markdown",
      "metadata": {
        "id": "NvWhcow-dvS8"
      },
      "source": [
        "# Cross-Validation\n",
        "\n",
        "- Do **k-fold cross-validation** with independent test set\n",
        "- Use scikit-learn for **hyperparameter optimization**"
      ]
    },
    {
      "cell_type": "code",
      "metadata": {
        "id": "Mw8tgbk78IHo"
      },
      "source": [
        "from google.colab import drive\n",
        "drive.mount('/content/gdrive')"
      ],
      "execution_count": null,
      "outputs": []
    },
    {
      "cell_type": "code",
      "metadata": {
        "id": "HRgkCSgGdty-",
        "colab": {
          "base_uri": "https://localhost:8080/"
        },
        "outputId": "f1a97a9b-a561-4699-d9d8-868347c4e27b"
      },
      "source": [
        "!pip install category_encoders==2.*"
      ],
      "execution_count": null,
      "outputs": [
        {
          "output_type": "stream",
          "text": [
            "Collecting category_encoders==2.*\n",
            "\u001b[?25l  Downloading https://files.pythonhosted.org/packages/44/57/fcef41c248701ee62e8325026b90c432adea35555cbc870aff9cfba23727/category_encoders-2.2.2-py2.py3-none-any.whl (80kB)\n",
            "\r\u001b[K     |████                            | 10kB 19.7MB/s eta 0:00:01\r\u001b[K     |████████▏                       | 20kB 25.6MB/s eta 0:00:01\r\u001b[K     |████████████▏                   | 30kB 17.2MB/s eta 0:00:01\r\u001b[K     |████████████████▎               | 40kB 14.9MB/s eta 0:00:01\r\u001b[K     |████████████████████▎           | 51kB 8.5MB/s eta 0:00:01\r\u001b[K     |████████████████████████▍       | 61kB 8.4MB/s eta 0:00:01\r\u001b[K     |████████████████████████████▍   | 71kB 8.8MB/s eta 0:00:01\r\u001b[K     |████████████████████████████████| 81kB 5.4MB/s \n",
            "\u001b[?25hRequirement already satisfied: scipy>=1.0.0 in /usr/local/lib/python3.7/dist-packages (from category_encoders==2.*) (1.4.1)\n",
            "Requirement already satisfied: statsmodels>=0.9.0 in /usr/local/lib/python3.7/dist-packages (from category_encoders==2.*) (0.10.2)\n",
            "Requirement already satisfied: numpy>=1.14.0 in /usr/local/lib/python3.7/dist-packages (from category_encoders==2.*) (1.19.5)\n",
            "Requirement already satisfied: patsy>=0.5.1 in /usr/local/lib/python3.7/dist-packages (from category_encoders==2.*) (0.5.1)\n",
            "Requirement already satisfied: scikit-learn>=0.20.0 in /usr/local/lib/python3.7/dist-packages (from category_encoders==2.*) (0.22.2.post1)\n",
            "Requirement already satisfied: pandas>=0.21.1 in /usr/local/lib/python3.7/dist-packages (from category_encoders==2.*) (1.1.5)\n",
            "Requirement already satisfied: six in /usr/local/lib/python3.7/dist-packages (from patsy>=0.5.1->category_encoders==2.*) (1.15.0)\n",
            "Requirement already satisfied: joblib>=0.11 in /usr/local/lib/python3.7/dist-packages (from scikit-learn>=0.20.0->category_encoders==2.*) (1.0.1)\n",
            "Requirement already satisfied: pytz>=2017.2 in /usr/local/lib/python3.7/dist-packages (from pandas>=0.21.1->category_encoders==2.*) (2018.9)\n",
            "Requirement already satisfied: python-dateutil>=2.7.3 in /usr/local/lib/python3.7/dist-packages (from pandas>=0.21.1->category_encoders==2.*) (2.8.1)\n",
            "Installing collected packages: category-encoders\n",
            "Successfully installed category-encoders-2.2.2\n"
          ],
          "name": "stdout"
        }
      ]
    },
    {
      "cell_type": "code",
      "metadata": {
        "id": "HF70Jp0x4NJU",
        "colab": {
          "base_uri": "https://localhost:8080/"
        },
        "outputId": "622f8d58-fa33-416a-a982-fee0bfb917a1"
      },
      "source": [
        "from category_encoders import OrdinalEncoder\n",
        "from sklearn.ensemble import RandomForestClassifier\n",
        "from sklearn.model_selection import train_test_split\n",
        "from sklearn.metrics import accuracy_score\n",
        "from sklearn.impute import SimpleImputer\n",
        "from sklearn.model_selection import cross_val_score, validation_curve # k-fold CV\n",
        "from sklearn.model_selection import GridSearchCV, RandomizedSearchCV # Hyperparameter tuning\n",
        "from sklearn.pipeline import make_pipeline\n",
        "from sklearn.tree import DecisionTreeClassifier\n",
        "import numpy as np\n",
        "import pandas as pd\n",
        "import matplotlib.pyplot as plt"
      ],
      "execution_count": null,
      "outputs": [
        {
          "output_type": "stream",
          "text": [
            "/usr/local/lib/python3.7/dist-packages/statsmodels/tools/_testing.py:19: FutureWarning: pandas.util.testing is deprecated. Use the functions in the public API at pandas.testing instead.\n",
            "  import pandas.util.testing as tm\n"
          ],
          "name": "stderr"
        }
      ]
    },
    {
      "cell_type": "markdown",
      "metadata": {
        "id": "oCBYPw7kd1AN"
      },
      "source": [
        "# I. Wrangle Data"
      ]
    },
    {
      "cell_type": "code",
      "metadata": {
        "id": "jaXMenXoZ0D6"
      },
      "source": [
        "\n",
        "train = pd.merge(\n",
        "    pd.read_csv('/content/gdrive/My Drive/Kaggle/train_features.csv', na_values=[0, -2.000000e-08], parse_dates=['date_recorded']), \n",
        "    pd.read_csv('train_labels.csv', na_values=[0, -2.000000e-08])\n",
        "    )\n",
        "\n",
        "def wrangle(df):\n",
        "\n",
        "  # Set the index to 'id'\n",
        "  df.set_index('id', inplace=True)\n",
        "\n",
        "  # Drop Constant Column\n",
        "  df.drop(columns='recorded_by', inplace=True)\n",
        "\n",
        "  # Drop Duplicate Column\n",
        "  df.drop(columns='quantity_group', inplace=True)\n",
        "\n",
        "  # Create age feature\n",
        "  df['pump_age'] = df['date_recorded'].dt.year - df['construction_year']\n",
        "  df.drop(columns='date_recorded', inplace=True)\n",
        "\n",
        "  # Drop High Cardinality Columns\n",
        "  cols_to_drop = [col for col in df.select_dtypes('object') if df[col].nunique() > 100]\n",
        "  df.drop(columns=cols_to_drop, inplace=True)\n",
        "\n",
        "  # Drop columns with high proportion of null values\n",
        "  df.drop(columns='num_private', inplace=True)\n",
        "\n",
        "  return df\n",
        "\n",
        "train = wrangle(train)\n",
        "\n"
      ],
      "execution_count": null,
      "outputs": []
    },
    {
      "cell_type": "markdown",
      "metadata": {
        "id": "jetWccxMqmzY"
      },
      "source": [
        "# II. Split Data"
      ]
    },
    {
      "cell_type": "markdown",
      "metadata": {
        "id": "y-MPA0qlr-mK"
      },
      "source": [
        "## Split TV from FM"
      ]
    },
    {
      "cell_type": "code",
      "metadata": {
        "id": "r1tp2pnxqUvB"
      },
      "source": [
        "target = 'status_group'\n",
        "y = train[target]\n",
        "X = train.drop(columns=target)"
      ],
      "execution_count": null,
      "outputs": []
    },
    {
      "cell_type": "markdown",
      "metadata": {
        "id": "qzThaxp5g_Ej"
      },
      "source": [
        "# **METHOD 1**"
      ]
    },
    {
      "cell_type": "markdown",
      "metadata": {
        "id": "2iag65MjiF0u"
      },
      "source": [
        "# 1.1 TRAIN AND VALIDATION SPLIT"
      ]
    },
    {
      "cell_type": "code",
      "metadata": {
        "id": "eDRiZ0XReG7b"
      },
      "source": [
        "# REgular 80-20 training - validation split\n",
        "X_train,X_val,y_train,y_val = train_test_split(X,y,test_size=0.2,random_state=42)"
      ],
      "execution_count": null,
      "outputs": []
    },
    {
      "cell_type": "markdown",
      "metadata": {
        "id": "3AxsLrd-hfwo"
      },
      "source": [
        "# 1.2 ESTABLISH BASELINE"
      ]
    },
    {
      "cell_type": "code",
      "metadata": {
        "id": "bXLLxnTDs328",
        "colab": {
          "base_uri": "https://localhost:8080/"
        },
        "outputId": "4fa039bb-6288-430c-c0a5-1bf144ec9310"
      },
      "source": [
        "print('Baseline Accuracy:', y_train.value_counts(normalize=True).max())"
      ],
      "execution_count": null,
      "outputs": [
        {
          "output_type": "stream",
          "text": [
            "Baseline Accuracy: 0.542609255977723\n"
          ],
          "name": "stdout"
        }
      ]
    },
    {
      "cell_type": "markdown",
      "metadata": {
        "id": "e9ZCrSZEiNQt"
      },
      "source": [
        "# 1.3 BUILD DT AND RF MODELS\n"
      ]
    },
    {
      "cell_type": "code",
      "metadata": {
        "id": "YwlI3IpGlqSU"
      },
      "source": [
        "model_dt=make_pipeline(OrdinalEncoder(),\n",
        "                       SimpleImputer(),\n",
        "                       DecisionTreeClassifier(random_state=42))\n",
        "model_dt.fit(X_train,y_train)"
      ],
      "execution_count": null,
      "outputs": []
    },
    {
      "cell_type": "code",
      "metadata": {
        "id": "89DiTUnxzPM3"
      },
      "source": [
        "model_rf=make_pipeline(OrdinalEncoder(),\n",
        "                       SimpleImputer(),\n",
        "                       RandomForestClassifier(n_estimators =50, random_state=42))\n",
        "model_rf.fit(X_train,y_train)"
      ],
      "execution_count": null,
      "outputs": []
    },
    {
      "cell_type": "markdown",
      "metadata": {
        "id": "efVTOxc2icqI"
      },
      "source": [
        "# 1.4 ACCURACIES FOR THE MODELS\n"
      ]
    },
    {
      "cell_type": "code",
      "metadata": {
        "id": "IUa6eVZGZXEg",
        "colab": {
          "base_uri": "https://localhost:8080/"
        },
        "outputId": "cad673c3-793c-4fd9-b1f9-c6716ec347a2"
      },
      "source": [
        "print('TREE: Training accuracy:', model_dt.score(X_train,y_train))\n",
        "print('TREE: Validation accuracy:', model_dt.score(X_val,y_val))"
      ],
      "execution_count": null,
      "outputs": [
        {
          "output_type": "stream",
          "text": [
            "TREE: Training accuracy: 0.99536850583971\n",
            "TREE: Validation accuracy: 0.7439880335979749\n"
          ],
          "name": "stdout"
        }
      ]
    },
    {
      "cell_type": "code",
      "metadata": {
        "colab": {
          "base_uri": "https://localhost:8080/"
        },
        "id": "96LB7ZCm0_ML",
        "outputId": "579fafe7-c872-478f-aff5-0ccbca6d8d86"
      },
      "source": [
        "print('RF: Training accuracy:', model_rf.score(X_train,y_train))\n",
        "print('RF: Validation accuracy:', model_rf.score(X_val,y_val))"
      ],
      "execution_count": null,
      "outputs": [
        {
          "output_type": "stream",
          "text": [
            "RF: Training accuracy: 0.9947931649502331\n",
            "RF: Validation accuracy: 0.7902427798872397\n"
          ],
          "name": "stdout"
        }
      ]
    },
    {
      "cell_type": "markdown",
      "metadata": {
        "id": "T1oRXyuYirP0"
      },
      "source": [
        "# **METHOD 2**"
      ]
    },
    {
      "cell_type": "markdown",
      "metadata": {
        "id": "n8jSWomGsLsw"
      },
      "source": [
        "# 2.1 Training-Validation Split\n",
        "\n",
        "- Since we're doing k-fold CV, there's no need for a validation set. We can go ahead and use method_dt and method_rf since they are just pipelines.\n",
        "\n",
        "- We are also not tuning any parameters here. This is just to demonstrate 5 fold CV.\n"
      ]
    },
    {
      "cell_type": "markdown",
      "metadata": {
        "id": "l96Atv4REyH3"
      },
      "source": [
        "**Check cross-validation scores**\n",
        "\n",
        "![Cross Validation](https://upload.wikimedia.org/wikipedia/commons/4/4b/KfoldCV.gif)"
      ]
    },
    {
      "cell_type": "code",
      "metadata": {
        "id": "aZOS2DYT4IzP"
      },
      "source": [
        "cv_scores_dt = cross_val_score(model_dt, X, y, cv=5, n_jobs=-1)\n",
        "cv_scores_rf = cross_val_score(model_rf, X, y, cv=5, n_jobs=-1)"
      ],
      "execution_count": null,
      "outputs": []
    },
    {
      "cell_type": "markdown",
      "metadata": {
        "id": "Gib6HYcSi0so"
      },
      "source": [
        "# 2.2 Train_Test_Split scores (can't be compared to CV scores)\n",
        "We take the mean accuracy for both models.\n"
      ]
    },
    {
      "cell_type": "code",
      "metadata": {
        "id": "PbVvXgxl2SJT",
        "colab": {
          "base_uri": "https://localhost:8080/"
        },
        "outputId": "8ee7407c-83f0-4610-a789-fc1770623a82"
      },
      "source": [
        "print('CV score DecisionTreeClassifier')\n",
        "print(cv_scores_dt)\n",
        "print('Mean CV accuracy score:', cv_scores_dt.mean())\n",
        "print('STD CV accuracy score:', cv_scores_dt.std())"
      ],
      "execution_count": null,
      "outputs": [
        {
          "output_type": "stream",
          "text": [
            "CV score DecisionTreeClassifier\n",
            "[0.75100679 0.74905074 0.7500863  0.75270426 0.74810127]\n",
            "Mean CV accuracy score: 0.7501898701075501\n",
            "STD CV accuracy score: 0.0015912327994235477\n"
          ],
          "name": "stdout"
        }
      ]
    },
    {
      "cell_type": "code",
      "metadata": {
        "colab": {
          "base_uri": "https://localhost:8080/"
        },
        "id": "O8uk8IWl8Gni",
        "outputId": "f10ffdc4-3160-488c-e617-894e3f688fc5"
      },
      "source": [
        "print('CV score RandomForest')\n",
        "print(cv_scores_rf)\n",
        "print('Mean CV accuracy score:', cv_scores_rf.mean())\n",
        "print('STD CV accuracy score:', cv_scores_rf.std())"
      ],
      "execution_count": null,
      "outputs": [
        {
          "output_type": "stream",
          "text": [
            "CV score RandomForest\n",
            "[0.79219883 0.79910252 0.79956277 0.79896433 0.79401611]\n",
            "Mean CV accuracy score: 0.7967689099168631\n",
            "STD CV accuracy score: 0.003050730774971721\n"
          ],
          "name": "stdout"
        }
      ]
    },
    {
      "cell_type": "markdown",
      "metadata": {
        "id": "RNHrlq7zA0kM"
      },
      "source": [
        "# TUNE HYPERPARAMETERS USING CV\n",
        "\n",
        "In addition to 5 fold CV, we are also incorporating grid search to choose the optimal parameters\n",
        "\n",
        "- What are important hyperparameters for `RandomForestClassifier`?\n",
        "  - `max_depth`: 5-35\n",
        "  - `n_estimators` 25-100\n",
        "  - imputation strategy"
      ]
    },
    {
      "cell_type": "markdown",
      "metadata": {
        "id": "SRL-I2ensgom"
      },
      "source": [
        "**`GridSearch`:** Very thourough, but it can take a long time.\n",
        "\n",
        "Test out every single combination of hyperparameters that we provide it\n",
        "**and** it's going to use cross-validation."
      ]
    },
    {
      "cell_type": "code",
      "metadata": {
        "id": "AVtzRXnRnRkm",
        "colab": {
          "base_uri": "https://localhost:8080/"
        },
        "outputId": "5e2296a9-29fc-4201-c22d-3c9af5c37eb2"
      },
      "source": [
        "clf = make_pipeline(\n",
        "    OrdinalEncoder(),\n",
        "    SimpleImputer(),\n",
        "    RandomForestClassifier(random_state=42)\n",
        ")\n",
        "\n",
        "param_grid = {\n",
        "    'simpleimputer__strategy':['mean','median'],\n",
        "    'randomforestclassifier__max_depth': range(5,35,5),\n",
        "    'randomforestclassifier__n_estimators': range(25,125,25)\n",
        "\n",
        "}\n",
        "\n",
        "model_rfgs = GridSearchCV(\n",
        "    clf,\n",
        "    param_grid = param_grid,\n",
        "    n_jobs = -1,\n",
        "    cv = 5,\n",
        "    verbose = 1\n",
        ")\n",
        "model_rfgs.fit(X,y)"
      ],
      "execution_count": null,
      "outputs": [
        {
          "output_type": "stream",
          "text": [
            "Fitting 5 folds for each of 48 candidates, totalling 240 fits\n"
          ],
          "name": "stdout"
        },
        {
          "output_type": "stream",
          "text": [
            "[Parallel(n_jobs=-1)]: Using backend LokyBackend with 2 concurrent workers.\n",
            "[Parallel(n_jobs=-1)]: Done  46 tasks      | elapsed:  1.1min\n",
            "[Parallel(n_jobs=-1)]: Done 196 tasks      | elapsed:  7.6min\n",
            "[Parallel(n_jobs=-1)]: Done 240 out of 240 | elapsed: 10.0min finished\n"
          ],
          "name": "stderr"
        },
        {
          "output_type": "execute_result",
          "data": {
            "text/plain": [
              "GridSearchCV(cv=5, error_score=nan,\n",
              "             estimator=Pipeline(memory=None,\n",
              "                                steps=[('ordinalencoder',\n",
              "                                        OrdinalEncoder(cols=None,\n",
              "                                                       drop_invariant=False,\n",
              "                                                       handle_missing='value',\n",
              "                                                       handle_unknown='value',\n",
              "                                                       mapping=None,\n",
              "                                                       return_df=True,\n",
              "                                                       verbose=0)),\n",
              "                                       ('simpleimputer',\n",
              "                                        SimpleImputer(add_indicator=False,\n",
              "                                                      copy=True,\n",
              "                                                      fill_value=None,\n",
              "                                                      missing_values=nan,\n",
              "                                                      strategy='mean',\n",
              "                                                      verbose=0)),\n",
              "                                       ('ra...\n",
              "                                                               oob_score=False,\n",
              "                                                               random_state=42,\n",
              "                                                               verbose=0,\n",
              "                                                               warm_start=False))],\n",
              "                                verbose=False),\n",
              "             iid='deprecated', n_jobs=-1,\n",
              "             param_grid={'randomforestclassifier__max_depth': range(5, 35, 5),\n",
              "                         'randomforestclassifier__n_estimators': range(25, 125, 25),\n",
              "                         'simpleimputer__strategy': ['mean', 'median']},\n",
              "             pre_dispatch='2*n_jobs', refit=True, return_train_score=False,\n",
              "             scoring=None, verbose=1)"
            ]
          },
          "metadata": {
            "tags": []
          },
          "execution_count": 49
        }
      ]
    },
    {
      "cell_type": "code",
      "metadata": {
        "colab": {
          "base_uri": "https://localhost:8080/"
        },
        "id": "SRcGxFuIeM1l",
        "outputId": "f6096a83-b5a0-4258-e127-c47a2283ed73"
      },
      "source": [
        "model_rfrs.best_params_"
      ],
      "execution_count": null,
      "outputs": [
        {
          "output_type": "execute_result",
          "data": {
            "text/plain": [
              "{'randomforestclassifier__max_depth': 20,\n",
              " 'randomforestclassifier__n_estimators': 75,\n",
              " 'simpleimputer__strategy': 'mean'}"
            ]
          },
          "metadata": {
            "tags": []
          },
          "execution_count": 50
        }
      ]
    },
    {
      "cell_type": "code",
      "metadata": {
        "colab": {
          "base_uri": "https://localhost:8080/"
        },
        "id": "GB6Fi6_AeROL",
        "outputId": "1869b5c4-90a3-4b0a-83b5-0c4ddc522328"
      },
      "source": [
        "print('The best accuracy score for the grid search is: ', model_rfgs.best_score_)"
      ],
      "execution_count": null,
      "outputs": [
        {
          "output_type": "stream",
          "text": [
            "The best accuracy score for the grid search is:  0.8053299082327803\n"
          ],
          "name": "stdout"
        }
      ]
    },
    {
      "cell_type": "markdown",
      "metadata": {
        "id": "UPvNOV6Cw1Zl"
      },
      "source": [
        "**`RandomizedSearchCV`:** Quicker, less effective but usually good enough."
      ]
    },
    {
      "cell_type": "code",
      "metadata": {
        "id": "n5Y2piNYsp_b",
        "colab": {
          "base_uri": "https://localhost:8080/"
        },
        "outputId": "5bfebd55-843c-481c-85a7-88739b99bbe2"
      },
      "source": [
        "model_rfrs = RandomizedSearchCV(\n",
        "    clf,\n",
        "    param_distributions = param_grid,\n",
        "    n_iter = 20,\n",
        "    cv = 5,\n",
        "    n_jobs = -1,\n",
        "    verbose = 1\n",
        ")\n",
        "model_rfrs.fit(X,y)"
      ],
      "execution_count": null,
      "outputs": [
        {
          "output_type": "stream",
          "text": [
            "Fitting 5 folds for each of 20 candidates, totalling 100 fits\n"
          ],
          "name": "stdout"
        },
        {
          "output_type": "stream",
          "text": [
            "[Parallel(n_jobs=-1)]: Using backend LokyBackend with 2 concurrent workers.\n",
            "[Parallel(n_jobs=-1)]: Done  46 tasks      | elapsed:  2.1min\n",
            "[Parallel(n_jobs=-1)]: Done 100 out of 100 | elapsed:  4.5min finished\n"
          ],
          "name": "stderr"
        },
        {
          "output_type": "execute_result",
          "data": {
            "text/plain": [
              "RandomizedSearchCV(cv=5, error_score=nan,\n",
              "                   estimator=Pipeline(memory=None,\n",
              "                                      steps=[('ordinalencoder',\n",
              "                                              OrdinalEncoder(cols=None,\n",
              "                                                             drop_invariant=False,\n",
              "                                                             handle_missing='value',\n",
              "                                                             handle_unknown='value',\n",
              "                                                             mapping=None,\n",
              "                                                             return_df=True,\n",
              "                                                             verbose=0)),\n",
              "                                             ('simpleimputer',\n",
              "                                              SimpleImputer(add_indicator=False,\n",
              "                                                            copy=True,\n",
              "                                                            fill_value=None,\n",
              "                                                            missing_values=nan,\n",
              "                                                            strategy='mean',\n",
              "                                                            verbose=0)...\n",
              "                                                                     verbose=0,\n",
              "                                                                     warm_start=False))],\n",
              "                                      verbose=False),\n",
              "                   iid='deprecated', n_iter=20, n_jobs=-1,\n",
              "                   param_distributions={'randomforestclassifier__max_depth': range(5, 35, 5),\n",
              "                                        'randomforestclassifier__n_estimators': range(25, 125, 25),\n",
              "                                        'simpleimputer__strategy': ['mean',\n",
              "                                                                    'median']},\n",
              "                   pre_dispatch='2*n_jobs', random_state=None, refit=True,\n",
              "                   return_train_score=False, scoring=None, verbose=1)"
            ]
          },
          "metadata": {
            "tags": []
          },
          "execution_count": 41
        }
      ]
    },
    {
      "cell_type": "code",
      "metadata": {
        "colab": {
          "base_uri": "https://localhost:8080/"
        },
        "id": "Oa68BTq5IqFk",
        "outputId": "b572c765-cac0-4c22-c541-25c176ac891c"
      },
      "source": [
        "model_rfrs.best_estimator_.named_steps['simpleimputer']"
      ],
      "execution_count": null,
      "outputs": [
        {
          "output_type": "execute_result",
          "data": {
            "text/plain": [
              "SimpleImputer(add_indicator=False, copy=True, fill_value=None,\n",
              "              missing_values=nan, strategy='mean', verbose=0)"
            ]
          },
          "metadata": {
            "tags": []
          },
          "execution_count": 45
        }
      ]
    },
    {
      "cell_type": "code",
      "metadata": {
        "colab": {
          "base_uri": "https://localhost:8080/"
        },
        "id": "UWpZkYa_I4GT",
        "outputId": "f7717d21-413d-404f-a696-f13272e06db9"
      },
      "source": [
        "model_rfrs.best_params_"
      ],
      "execution_count": null,
      "outputs": [
        {
          "output_type": "execute_result",
          "data": {
            "text/plain": [
              "{'randomforestclassifier__max_depth': 20,\n",
              " 'randomforestclassifier__n_estimators': 75,\n",
              " 'simpleimputer__strategy': 'mean'}"
            ]
          },
          "metadata": {
            "tags": []
          },
          "execution_count": 46
        }
      ]
    },
    {
      "cell_type": "code",
      "metadata": {
        "id": "gnWtpUai9VCq"
      },
      "source": [
        "# Uses the best model to retrain and score your test data\n",
        "model_rfrs.best_estimator_(X_test)"
      ],
      "execution_count": null,
      "outputs": []
    },
    {
      "cell_type": "code",
      "metadata": {
        "colab": {
          "base_uri": "https://localhost:8080/"
        },
        "id": "Rnn3JNPoee-9",
        "outputId": "e840fba3-21e4-42b0-ffdc-217aebf31456"
      },
      "source": [
        "print('The best accuracy score for the grid search is: ', model_rfrs.best_score_)"
      ],
      "execution_count": null,
      "outputs": [
        {
          "output_type": "stream",
          "text": [
            "The best accuracy score for the grid search is:  0.8046855793971754\n"
          ],
          "name": "stdout"
        }
      ]
    },
    {
      "cell_type": "markdown",
      "metadata": {
        "id": "iijiX5SWkdV_"
      },
      "source": [
        "## You can see that the GridSearch and RandomSearch gave similar results. So it is a good tradeoff to do a RandomSearch to reduce computation."
      ]
    },
    {
      "cell_type": "markdown",
      "metadata": {
        "id": "mc4-86wQ0xfX"
      },
      "source": [
        "# Make Submission"
      ]
    },
    {
      "cell_type": "code",
      "metadata": {
        "id": "Oo18Q8CVMbXh"
      },
      "source": [
        "#y_pred = model_rfrs.predict(X_test)\n",
        "#submission = pd.DataFrame({'status_group':y_pred}, index=X_test.index)\n",
        "datestamp = pd.Timestamp.now().strftime('%Y-%m-%d_%H%M_')\n",
        "submission.to_csv(f'{datestamp}submission.csv')"
      ],
      "execution_count": null,
      "outputs": []
    },
    {
      "cell_type": "markdown",
      "metadata": {
        "id": "gdPydrAciFvW"
      },
      "source": [
        "# VI. Communicate Results\n",
        "\n",
        "**Showing Feature Importance**"
      ]
    },
    {
      "cell_type": "markdown",
      "metadata": {
        "id": "orrZCcWqj0Wu"
      },
      "source": [
        "Plot the feature importance for our `RandomForest` model."
      ]
    },
    {
      "cell_type": "code",
      "metadata": {
        "id": "ZQ1l9ZsJMbXi",
        "colab": {
          "base_uri": "https://localhost:8080/",
          "height": 280
        },
        "outputId": "0cb7b277-659c-4485-c3d2-271d2e00c025"
      },
      "source": [
        "bestimator = model_rfrs.best_estimator_\n",
        "importances = bestimator.named_steps['randomforestclassifier'].feature_importances_\n",
        "features = X_train.columns\n",
        "feat_imp = pd.Series(importances, index=features).sort_values()\n",
        "feat_imp.plot(kind='barh')\n",
        "plt.xlabel('Reduction in Gini Impurity');"
      ],
      "execution_count": null,
      "outputs": [
        {
          "output_type": "display_data",
          "data": {
            "image/png": "[encoded data removed]",
            "text/plain": [
              "<Figure size 432x288 with 1 Axes>"
            ]
          },
          "metadata": {
            "tags": [],
            "needs_background": "light"
          }
        }
      ]
    },
    {
      "cell_type": "code",
      "metadata": {
        "id": "YfLNp23U8lmE"
      },
      "source": [
        "#save model\n",
        "import pickle\n",
        "filename = 'accuracy_80perc'\n",
        "pickle.dump(model_dt,open(filename,'wb'))\n",
        "\n",
        "#load model\n",
        "model_dt = pickle.load(open(filename,'rb'))\n"
      ],
      "execution_count": null,
      "outputs": []
    }
  ]
}